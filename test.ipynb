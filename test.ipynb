{
 "cells": [
  {
   "cell_type": "code",
   "execution_count": 1,
   "metadata": {},
   "outputs": [],
   "source": [
    "import cv2\n",
    "import tensorflow as tf\n",
    "import matplotlib.pyplot as plt\n",
    "\n",
    "from src.data import get_dataset\n",
    "from src.params import Params\n",
    "from src.model import face_model"
   ]
  },
  {
   "cell_type": "code",
   "execution_count": 2,
   "metadata": {},
   "outputs": [],
   "source": [
    "params = Params('/root/shared_folder/Harish/Facenet-x/hyperparameters/batch_all.json')"
   ]
  },
  {
   "cell_type": "code",
   "execution_count": 3,
   "metadata": {},
   "outputs": [],
   "source": [
    "dataset = get_dataset('/root/shared_folder/Amaan/face/FaceNet-and-FaceLoss-collections-tensorflow2.0/data', params)"
   ]
  },
  {
   "cell_type": "code",
   "execution_count": 4,
   "metadata": {},
   "outputs": [],
   "source": [
    "model = face_model(params)\n",
    "model = tf.function(model)"
   ]
  },
  {
   "cell_type": "code",
   "execution_count": 8,
   "metadata": {},
   "outputs": [
    {
     "name": "stdout",
     "output_type": "stream",
     "text": [
      "tf.Tensor(\n",
      "[[-9.9793464e-01 -1.0364783e-01  3.5329473e+00 ...  6.3748598e-02\n",
      "  -1.0713965e+00  1.4216712e-01]\n",
      " [ 1.0937287e+00  5.2690268e-01  1.1994019e+00 ...  3.5638757e+00\n",
      "   2.4562228e-01 -2.3063042e+00]\n",
      " [ 6.4870739e-01  1.8279147e-01  9.0617299e-02 ...  2.8636317e+00\n",
      "   1.2052783e+00  4.6953684e-01]\n",
      " ...\n",
      " [ 1.0024033e+00  3.4084922e-01  1.7435980e-01 ...  2.0759648e-01\n",
      "   2.7873492e+00 -9.9507779e-01]\n",
      " [ 3.8913149e-01 -3.2990277e-03  1.1328872e+00 ...  2.1621704e+00\n",
      "   2.3458064e+00  1.3955686e+00]\n",
      " [ 7.4638665e-01 -9.9027652e-01  9.6474707e-02 ... -1.7271883e+00\n",
      "  -6.6675127e-01 -1.3086923e+00]], shape=(32, 1024), dtype=float32)\n"
     ]
    }
   ],
   "source": [
    "for i in dataset:\n",
    "    img = i[0]\n",
    "    print(model(img))\n",
    "    break"
   ]
  },
  {
   "cell_type": "code",
   "execution_count": null,
   "metadata": {},
   "outputs": [],
   "source": []
  }
 ],
 "metadata": {
  "kernelspec": {
   "display_name": "Python 3",
   "language": "python",
   "name": "python3"
  },
  "language_info": {
   "codemirror_mode": {
    "name": "ipython",
    "version": 3
   },
   "file_extension": ".py",
   "mimetype": "text/x-python",
   "name": "python",
   "nbconvert_exporter": "python",
   "pygments_lexer": "ipython3",
   "version": "3.7.9"
  }
 },
 "nbformat": 4,
 "nbformat_minor": 4
}
